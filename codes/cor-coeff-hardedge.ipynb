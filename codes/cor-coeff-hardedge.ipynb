{
 "cells": [
  {
   "cell_type": "code",
   "execution_count": 2,
   "id": "be2e1af2",
   "metadata": {},
   "outputs": [],
   "source": [
    "using LinearAlgebra, SpecialFunctions, SimplexQuad\n",
    "import GaussQuadrature.legendre\n",
    "function GL(m; a=0, b=1) \n",
    "    # m points Gauss-Legendre quadrature for [a, b]\n",
    "    xi, wi = legendre(m)\n",
    "    return map( t->((a+b)/2 + t*(b-a)/2), xi ), (b-a) * wi / 2\n",
    "end\n",
    "function K_quadrature(K, α, s; m=50) \n",
    "    # Creates K matrix according to m quadrature points\n",
    "    # Method proposed in (Bornemann, 2009)\n",
    "    x, w = GL(m; a=0, b=last(s))\n",
    "    w_sqrt = sqrt.(w)\n",
    "    return (w_sqrt*w_sqrt') .* map(t->K(α,s,t...), [(xi,xj) for xi in x, xj in x]) \n",
    "end\n",
    "\n",
    "\"\"\"\n",
    "Computing the Bessel Kernel\n",
    "- For x=y case, see https://arxiv.org/pdf/hep-th/9304063.pdf Eq (1.2b).\n",
    "- For x!=y case, see page 6 of the above paper.\n",
    "- For x!=y case, alternative but identical representation in https://arxiv.org/pdf/2206.09411.pdf Eq (25)\n",
    "which is ( Ja(α, √x) * √y * Ja(α-1, √y) - √x * Ja(α-1, √x) * Ja(α, √y) ) / ( 2 * (x - y) )\n",
    "\n",
    "HEpdf  : pdf of the smallest eigenvalue, hard-edge\n",
    "HE2pdf : pdf of the second smallest eigenvalue, hard-edge\n",
    "\"\"\"\n",
    "Ja = besselj\n",
    "K_Bess(α, x, y) = x==y ? ( Ja(α, √x)^2 - Ja(α+1, √x) * Ja(α-1, √x) ) / 4 :\n",
    "                                 ( Ja(α+1, √x) * √x * Ja(α, √y) - √y * Ja(α+1, √y) * Ja(α, √x) ) / ( 2 * (x - y) )\n",
    "K_Bessp(α, s, x, y) = K_Bess(α, x, y) - K_Bess(α, s, x) * K_Bess(α, s, y) / K_Bess(α, s, s)\n",
    "HEpdf(α, s; m=50) = K_Bess(α, s, s) * det(I-K_quadrature(K_Bessp, α, s; m=m)) \n",
    "function HE2pdf(α, s; m=50)\n",
    "    K = K_quadrature(K_Bessp, α, s; m=m)\n",
    "    L = (I-K)\\K\n",
    "    return K_Bess(α,s,s)*tr(L)/det(I+L)\n",
    "end\n",
    "function compute_moments(α, m; xmax=200, mint=50) \n",
    "    # Computes the first four moments of λ1, λ2\n",
    "    # Mean, Variance, Skewness, Excess kurtosis\n",
    "    xs_gl, ws_gl = GL(m; a=0, b=xmax)\n",
    "    f1_gl, f2_gl = HEpdf.(α, xs_gl; m=mint), HE2pdf.(α, xs_gl;m=mint)\n",
    "    Eλ1 = sum(f1_gl .* ws_gl .* xs_gl)\n",
    "    Eλ2 = sum(f2_gl .* ws_gl .* xs_gl)\n",
    "    Vλ1 = sum(f1_gl .* ws_gl .* xs_gl.^2) - Eλ1^2\n",
    "    Vλ2 = sum(f2_gl .* ws_gl .* xs_gl.^2) - Eλ2^2\n",
    "    σλ1, σλ2 = sqrt(Vλ1), sqrt(Vλ2)\n",
    "    Sλ1 = sum(f1_gl .* ws_gl .* ((xs_gl.-Eλ1)./σλ1).^3)\n",
    "    Sλ2 = sum(f2_gl .* ws_gl .* ((xs_gl.-Eλ2)./σλ2).^3)\n",
    "    Kλ1 = sum(f1_gl .* ws_gl .* ((xs_gl.-Eλ1)./σλ1).^4)-3\n",
    "    Kλ2 = sum(f2_gl .* ws_gl .* ((xs_gl.-Eλ2)./σλ2).^4)-3\n",
    "    return [Eλ1, Vλ1, Sλ1, Kλ1], [Eλ2, Vλ2, Sλ2, Kλ2]\n",
    "end\n",
    "\n",
    "### Now some joint pdf related routines\n",
    "K_Bess_λ1λ2(α, λs, x, y)   = K_Bess(α,x,y) - K_Bess.(α,x,λs)'*(K_Bess.(α,λs,λs')\\K_Bess.(α,λs,y))\n",
    "joint_pdf_λ1λ2(α, x; m=50) = x[1]<x[2] ? det(K_Bess.(α,x,x'))*det(I-K_quadrature(K_Bess_λ1λ2,α,x;m=m)) : 0.0\n",
    "function compute_Eλ1λ2(α, m; xmax=200, mint=50)\n",
    "    # Computes Eλ1λ2 using 2D quadrature\n",
    "    xs_sq, ws_sq = simplexquad(m, [0.0 0; xmax xmax; 0 xmax])\n",
    "    xs_grid = [xs_sq[i,:] for i in 1:size(xs_sq,1)]\n",
    "    fs_sq = joint_pdf_λ1λ2.(α,xs_grid; m=mint)\n",
    "    return sum(ws_sq .* fs_sq .* prod.(xs_grid)) # Eλ1λ2\n",
    "end\n",
    "compute_moments(0, 10; xmax=500, mint=10) # pre-compilation\n",
    "compute_Eλ1λ2(0, 10; xmax=500, mint=20);"
   ]
  },
  {
   "cell_type": "code",
   "execution_count": 3,
   "id": "9b2c253a",
   "metadata": {},
   "outputs": [
    {
     "name": "stdout",
     "output_type": "stream",
     "text": [
      "  0.264811 seconds (4.38 M allocations: 71.879 MiB, 4.31% gc time, 2.35% compilation time)\n",
      "  0.233717 seconds (4.38 M allocations: 71.877 MiB, 2.03% gc time)\n",
      "  0.298118 seconds (4.38 M allocations: 71.877 MiB, 2.92% gc time)\n",
      "Mλ1_0 = [3.99999999999996, 15.999999999999826, 1.999999999999973, 5.999999999999442]\n",
      "Mλ2_0 = [24.362714917268054, 140.3673189982726, 0.9241470357144479, 1.2251116173604366]\n",
      "Mλ1_1 = [10.87312731383609, 55.745139438490014, 1.3203117463993395, 2.541265785799716]\n",
      "Mλ2_1 = [40.81220349762314, 259.89850968704377, 0.7378007973144822, 0.7649904035805895]\n",
      "Mλ1_2 = [20.362714917275955, 124.36731899747997, 1.015815254153757, 1.461305925129178]\n",
      "Mλ2_2 = [60.11281390465883, 416.8514401559851, 0.6226052474806005, 0.5324828701729141]\n"
     ]
    }
   ],
   "source": [
    "# Computing Four moments, α = 0,1,2\n",
    "m, mint = 40, 30\n",
    "α = 0;\n",
    "@time Mλ1_0, Mλ2_0 = compute_moments(α, m; xmax=500, mint=mint)\n",
    "α = 1;\n",
    "@time Mλ1_1, Mλ2_1 = compute_moments(α, m; xmax=600, mint=mint)\n",
    "α = 2;\n",
    "@time Mλ1_2, Mλ2_2 = compute_moments(α, m; xmax=800, mint=mint)\n",
    "\n",
    "@show Mλ1_0\n",
    "@show Mλ2_0\n",
    "@show Mλ1_1\n",
    "@show Mλ2_1\n",
    "@show Mλ1_2\n",
    "@show Mλ2_2;"
   ]
  },
  {
   "cell_type": "code",
   "execution_count": 4,
   "id": "91ab367f",
   "metadata": {},
   "outputs": [
    {
     "name": "stdout",
     "output_type": "stream",
     "text": [
      "  0.267068 seconds (5.48 M allocations: 89.845 MiB, 3.88% gc time)\n",
      " 39.505630 seconds (736.07 M allocations: 16.347 GiB, 3.21% gc time)\n",
      "  0.329430 seconds (5.48 M allocations: 89.845 MiB, 2.31% gc time)\n",
      " 47.009734 seconds (736.07 M allocations: 16.347 GiB, 2.75% gc time)\n",
      "  0.330940 seconds (5.48 M allocations: 89.845 MiB, 2.24% gc time)\n",
      " 52.195974 seconds (736.07 M allocations: 16.347 GiB, 2.43% gc time)\n",
      "(ρ_0, ρ_1, ρ_2) = (0.3376190852244968, 0.3917356930215978, 0.4171879154114054)\n"
     ]
    },
    {
     "data": {
      "text/plain": [
       "(0.3376190852244968, 0.3917356930215978, 0.4171879154114054)"
      ]
     },
     "execution_count": 4,
     "metadata": {},
     "output_type": "execute_result"
    }
   ],
   "source": [
    "## Moment computation\n",
    "m1, m2, mint = 50, 70, 30\n",
    "\n",
    "α = 0\n",
    "@time Mλ1_0, Mλ2_0 = compute_moments(α, m1; xmax=500, mint=mint)\n",
    "@time Eλ1λ2_0 = compute_Eλ1λ2(α, m2; xmax=500, mint=mint)\n",
    "ρ_0 = (Eλ1λ2_0 - Mλ1_0[1]*Mλ2_0[1])/sqrt(Mλ1_0[2]*Mλ2_0[2])\n",
    "α = 1\n",
    "@time Mλ1_1, Mλ2_1 = compute_moments(α, m1; xmax=600, mint=mint)\n",
    "@time Eλ1λ2_1 = compute_Eλ1λ2(α, m2; xmax=600, mint=mint)\n",
    "ρ_1 = (Eλ1λ2_1 - Mλ1_1[1]*Mλ2_1[1])/sqrt(Mλ1_1[2]*Mλ2_1[2])\n",
    "α = 2\n",
    "@time Mλ1_2, Mλ2_2 = compute_moments(α, m1; xmax=800, mint=mint)\n",
    "@time Eλ1λ2_2 = compute_Eλ1λ2(α, m2; xmax=800, mint=mint)\n",
    "ρ_2 = (Eλ1λ2_2 - Mλ1_2[1]*Mλ2_2[1])/sqrt(Mλ1_2[2]*Mλ2_2[2])\n",
    "@show ρ_0, ρ_1, ρ_2"
   ]
  },
  {
   "cell_type": "code",
   "execution_count": 5,
   "id": "f387f83f",
   "metadata": {},
   "outputs": [
    {
     "name": "stdout",
     "output_type": "stream",
     "text": [
      "  3.970780 seconds (65.79 M allocations: 1.051 GiB, 2.21% gc time)\n",
      "476.477523 seconds (8.65 G allocations: 191.999 GiB, 3.14% gc time)\n",
      "  3.418667 seconds (65.79 M allocations: 1.051 GiB, 2.55% gc time)\n",
      "497.773789 seconds (8.65 G allocations: 191.999 GiB, 3.02% gc time)\n",
      "  4.136196 seconds (65.79 M allocations: 1.051 GiB, 2.13% gc time)\n",
      "546.012067 seconds (8.65 G allocations: 191.999 GiB, 2.72% gc time)\n",
      "(ρ_0, ρ_1, ρ_2) = (0.33761908522455175, 0.3917356930213813, 0.4171879154113996)\n"
     ]
    },
    {
     "data": {
      "text/plain": [
       "(0.33761908522455175, 0.3917356930213813, 0.4171879154113996)"
      ]
     },
     "execution_count": 5,
     "metadata": {},
     "output_type": "execute_result"
    }
   ],
   "source": [
    "## HIGH PRECISION COMPUTATION FOR DIGIT CHECK\n",
    "m1, m2, mint = 150, 120, 60\n",
    "\n",
    "α = 0\n",
    "@time Mλ1_0, Mλ2_0 = compute_moments(α, m1; xmax=1000, mint=mint)\n",
    "@time Eλ1λ2_0 = compute_Eλ1λ2(α, m2; xmax=1000, mint=mint)\n",
    "ρ_0 = (Eλ1λ2_0 - Mλ1_0[1]*Mλ2_0[1])/sqrt(Mλ1_0[2]*Mλ2_0[2])\n",
    "α = 1\n",
    "@time Mλ1_1, Mλ2_1 = compute_moments(α, m1; xmax=1200, mint=mint)\n",
    "@time Eλ1λ2_1 = compute_Eλ1λ2(α, m2; xmax=1200, mint=mint)\n",
    "ρ_1 = (Eλ1λ2_1 - Mλ1_1[1]*Mλ2_1[1])/sqrt(Mλ1_1[2]*Mλ2_1[2])\n",
    "α = 2\n",
    "@time Mλ1_2, Mλ2_2 = compute_moments(α, m1; xmax=1400, mint=mint)\n",
    "@time Eλ1λ2_2 = compute_Eλ1λ2(α, m2; xmax=1400, mint=mint)\n",
    "ρ_2 = (Eλ1λ2_2 - Mλ1_2[1]*Mλ2_2[1])/sqrt(Mλ1_2[2]*Mλ2_2[2])\n",
    "@show ρ_0, ρ_1, ρ_2"
   ]
  },
  {
   "cell_type": "markdown",
   "id": "7720802a",
   "metadata": {},
   "source": [
    "## Just having fun with spacings of various $\\alpha$ values. Compare with Figure 2 of https://arxiv.org/pdf/0704.1926.pdf"
   ]
  },
  {
   "cell_type": "code",
   "execution_count": null,
   "id": "5be5beb8",
   "metadata": {},
   "outputs": [],
   "source": [
    "using Plots\n",
    "function Asoft(α,dist; mint=30, mf=30, xmin=0, xmax=400)\n",
    "    x, w = GL(mint; a=xmin, b=xmax)\n",
    "    return sum(w.*map(t->joint_pdf_λ1λ2(α,[t,t+dist];m=mf), x))\n",
    "end\n",
    "t = 0:1:200\n",
    "plot(t, Asoft.(0,t), label=\"α=0\", title=\"First eigenvalue spacing, Hard-edge\")\n",
    "for i in 0:1:3\n",
    "    plot!(t, Asoft.(i,t), label=\"α=$i\")\n",
    "end\n",
    "plot!()"
   ]
  }
 ],
 "metadata": {
  "kernelspec": {
   "display_name": "Julia 1.7.3",
   "language": "julia",
   "name": "julia-1.7"
  },
  "language_info": {
   "file_extension": ".jl",
   "mimetype": "application/julia",
   "name": "julia",
   "version": "1.7.3"
  }
 },
 "nbformat": 4,
 "nbformat_minor": 5
}
