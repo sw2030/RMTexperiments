{
 "cells": [
  {
   "cell_type": "code",
   "execution_count": 1,
   "id": "26753cab",
   "metadata": {},
   "outputs": [],
   "source": [
    "using LinearAlgebra, SpecialFunctions, SimplexQuad\n",
    "import GaussQuadrature.legendre\n",
    "function GL(m; a=0, b=1) \n",
    "    # m points Gauss-Legendre quadrature for [a, b]\n",
    "    xi, wi = legendre(m)\n",
    "    return map( t->((a+b)/2 + t*(b-a)/2), xi ), (b-a) * wi / 2\n",
    "end\n",
    "function K_quadrature(K, s; m=50) \n",
    "    # Creates K matrix according to m quadrature points\n",
    "    # Method proposed in (Bornemann, 2009)\n",
    "    x, w = GL(m)\n",
    "    w_sqrt = sqrt.(w)\n",
    "    return (w_sqrt*w_sqrt') .* map(t->K(s, t...), [(xi,xj) for xi in x, xj in x]) \n",
    "end\n",
    "function K_quadrature(K, s1, s2;m=50) \n",
    "    # Two parameter discretized kernel\n",
    "    # Fixed eigenvalue at s1, integrating on (s2, ∞) \n",
    "    x, w = GL(m)\n",
    "    w_sqrt = sqrt.(w)\n",
    "    return (w_sqrt*w_sqrt') .* map(t->K(s1,s2,t...), [(xi,xj) for xi in x, xj in x]) \n",
    "end\n",
    "\n",
    "\"\"\"\n",
    "K_Ai  : the usual Airy kernel\n",
    "K_Aip : the kernel K^{(s)}\n",
    "TWpdf  : pdf of the Tray-Widom distribution\n",
    "TW2pdf : pdf of the second eigenvalue of the TW distribution\n",
    "\"\"\"\n",
    "Ai, Aip = airyai, airyaiprime\n",
    "ϕ(x,s)    = s+10*tan(π*x/2) # See (Bornemann, 2009) pdf page 29\n",
    "ϕp(x)     = 5π*sec(π*x/2)^2\n",
    "K_Ai(x,y)      = x==y ? (Aip(x))^2-x*(Ai(x))^2 : (Ai(x)*Aip(y)-Ai(y)*Aip(x))/(x-y)\n",
    "K_Aip(s,x,y)   = K_Ai(x,y) - K_Ai(s,y)*K_Ai(x,s)/K_Ai(s,s)\n",
    "K_Aip_ϕ(s,x,y) = sqrt(ϕp(x)*ϕp(y)) * K_Aip(s, ϕ(x, s), ϕ(y, s) )\n",
    "K_Aip_ϕ(s1,s2,x,y) = sqrt(ϕp(x)*ϕp(y)) * K_Aip(s1, ϕ(x, s2), ϕ(y, s2) )\n",
    "  \n",
    "K_Ai_λ1λ2(λs, x, y)     = K_Ai(x,y) - K_Ai.(x,λs)'*(K_Ai.(λs, λs')\\K_Ai.(λs,y))\n",
    "K_Ai_λ1λ2_ϕ(λs, x, y)   = K_Ai_λ1λ2(λs,ϕ(x,λs[2]),ϕ(y,λs[2])) * sqrt(ϕp(x)*ϕp(y))\n",
    "joint_pdf_λ1λ2(x; m=50) = x[1]>x[2] ? det(K_Ai.(x, x'))*det(I-K_quadrature(K_Ai_λ1λ2_ϕ, x;m=m)) : 0.0\n",
    "\n",
    "\"\"\"\n",
    "Asoft : pdf of the first spacing\n",
    "Gsoft : cdf of the first spacing\n",
    "\"\"\"\n",
    "function Asoft(dist; mint=30, mf=30, xmin=-15, xmax=10)\n",
    "    x, w = GL(mint; a=xmin, b=xmax)\n",
    "    return sum(w.*map(t->joint_pdf_λ1λ2([t,t-dist];m=mf), x))\n",
    "end\n",
    "function Gsoft(dist; mint=30, mf=30, xmin=-15, xmax=10)\n",
    "    x, w = GL(mint; a=xmin, b=xmax)\n",
    "    return 1-sum( w.*map(t->det(I-K_quadrature(K_Aip_ϕ, t, t-dist;m=mf))*K_Ai(t,t), x) )\n",
    "end\n",
    "\n",
    "#As = Asoft.(0:0.05:8.80; mint=60, mf=30)\n",
    "#Gs = Gsoft.(0:0.05:8.80; mint=60, mf=30)\n",
    "\n",
    "function compute_moments(m; b=10, mint=70, mf=50)\n",
    "    x_A, w_A = GL(m; a=0, b=b)\n",
    "    As_gl = Asoft.(x_A; mint=mint, mf=mf)\n",
    "\n",
    "    EA  = sum(w_A .* x_A .* As_gl)\n",
    "    VA  = sum(w_A .* (x_A.-EA).^2 .* As_gl)\n",
    "    σA  = sqrt.(VA)\n",
    "    SA  = sum(w_A .* ((x_A.-EA)./σA).^3 .* As_gl)\n",
    "    KA  = sum(w_A .* ((x_A.-EA)./σA).^4 .* As_gl)-3;\n",
    "\n",
    "    return EA, VA, SA, KA\n",
    "end\n",
    "## PRECOMPILE\n",
    "compute_moments(20; b=10, mint=30, mf=10)\n",
    "Asoft.(0.1; mint=30, mf=10)\n",
    "Gsoft.(0.1; mint=30, mf=10);"
   ]
  },
  {
   "cell_type": "markdown",
   "id": "88ecb4be",
   "metadata": {},
   "source": [
    "## Computing the four moments of the first spacing"
   ]
  },
  {
   "cell_type": "code",
   "execution_count": 2,
   "id": "d5a949a7",
   "metadata": {},
   "outputs": [
    {
     "name": "stdout",
     "output_type": "stream",
     "text": [
      " 28.996665 seconds (192.15 M allocations: 4.084 GiB, 0.75% gc time)\n"
     ]
    },
    {
     "data": {
      "text/plain": [
       "(1.9043504899183228, 0.6832520586751626, 0.5622919830743899, 0.2700919337188177)"
      ]
     },
     "execution_count": 2,
     "metadata": {},
     "output_type": "execute_result"
    }
   ],
   "source": [
    "#=\n",
    "@time compute_moments(150; b=16, mint=100, mf=70) ## HIGHLY ACCURATE REFERENCE VALUE\n",
    "2000.634875 seconds (13.08 G allocations: 277.739 GiB, 1.13% gc time, 0.02% compilation time)\n",
    "(1.9043504897205783, 0.6832520551054224, 0.5622919760404267, 0.27009196071511443)\n",
    "=#\n",
    "@time compute_moments(20; b=10, mint=60, mf=30) ## Computation up to 5-9 digits"
   ]
  },
  {
   "cell_type": "code",
   "execution_count": 3,
   "id": "91e25352",
   "metadata": {},
   "outputs": [
    {
     "name": "stdout",
     "output_type": "stream",
     "text": [
      "232.272562 seconds (1.56 G allocations: 33.063 GiB, 0.80% gc time)\n"
     ]
    },
    {
     "data": {
      "text/plain": [
       "(1.9043504897205754, 0.683252055105417, 0.5622919760403926, 0.27009196071527963)"
      ]
     },
     "execution_count": 3,
     "metadata": {},
     "output_type": "execute_result"
    }
   ],
   "source": [
    "@time compute_moments(50; b=14, mint=70, mf=50) ## Up to 12 digits"
   ]
  },
  {
   "cell_type": "markdown",
   "id": "66f990cb",
   "metadata": {},
   "source": [
    "## Computing and comparing the values of A and G"
   ]
  },
  {
   "cell_type": "code",
   "execution_count": 4,
   "id": "d2a51459",
   "metadata": {},
   "outputs": [
    {
     "name": "stdout",
     "output_type": "stream",
     "text": [
      "286.802250 seconds (1.69 G allocations: 35.937 GiB, 0.86% gc time, 0.01% compilation time)\n"
     ]
    }
   ],
   "source": [
    "@time As = Asoft.(0:0.05:8.80; mint=60, mf=30);"
   ]
  },
  {
   "cell_type": "code",
   "execution_count": 5,
   "id": "b740ab93",
   "metadata": {},
   "outputs": [
    {
     "name": "stdout",
     "output_type": "stream",
     "text": [
      "101.692454 seconds (638.99 M allocations: 10.063 GiB, 0.47% gc time, 0.02% compilation time)\n"
     ]
    }
   ],
   "source": [
    "@time Gs = Gsoft.(0:0.05:8.80; mint=60, mf=30);"
   ]
  },
  {
   "cell_type": "code",
   "execution_count": 6,
   "id": "d029c0cc",
   "metadata": {},
   "outputs": [],
   "source": [
    "## Becnhmark Values copied from Table 2 of [Witte, Bornemann and Forrester, 2013]\n",
    "Abench = [0.0, 0.00124877, 0.00498037, 0.01115087, 0.0196879, 0.03049179, 0.04343713, 0.05837484, 0.07513443, \n",
    "    0.0935266, 0.11334613, 0.13437484, 0.15638476, 0.17914131, 0.20240646, 0.22594192, 0.24951215, 0.27288721, \n",
    "    0.29584551, 0.31817624, 0.33968157, 0.3601786, 0.37950094, 0.39750012, 0.41404648, 0.42902996, 0.44236044, \n",
    "    0.45396785, 0.46380199, 0.4718321, 0.47804618, 0.4824501, 0.48506656, 0.48593385, 0.48510454, 0.48264401, \n",
    "    0.47862894, 0.47314581, 0.46628929, 0.45816068, 0.44886644, 0.43851664, 0.42722362, 0.41510061, 0.4022605, \n",
    "    0.38881472, 0.37487223, 0.36053855, 0.34591504, 0.33109815, 0.31617892, 0.30124247, 0.2863677, 0.27162706, \n",
    "    0.25708634, 0.2428047, 0.22883462, 0.21522206, 0.20200658, 0.18922158, 0.17689453, 0.16504734, 0.15369662, \n",
    "    0.14285408, 0.13252688, 0.12271804, 0.11342681, 0.10464906, 0.09637765, 0.08860281, 0.08131251, 0.07449279, \n",
    "    0.06812806, 0.06220145, 0.05669506, 0.05159022, 0.04686776, 0.04250818, 0.03849187, 0.03479928, 0.03141105, \n",
    "    0.02830817, 0.02547209, 0.02288475, 0.02052876, 0.01838737, 0.01644456, 0.01468507, 0.01309441, 0.0116589, \n",
    "    0.01036561, 0.00920246, 0.00815809, 0.00722193, 0.00638415, 0.00563563, 0.00496793, 0.00437327, 0.0038445, \n",
    "    0.00337504, 0.00295889, 0.00259055, 0.00226503, 0.00197778, 0.00172467, 0.00150198, 0.00130633, 0.0011347, \n",
    "    0.00098434, 0.00085281, 0.00073792, 0.00063769, 0.00055039, 0.00047444, 0.00040846, 0.00035123, 0.00030164, \n",
    "    0.00025873, 0.00022166, 0.00018967, 0.0001621, 0.00013837, 0.00011798, 0.00010047, 8.546e-5, 7.26e-5, \n",
    "    6.161e-5, 5.222e-5, 4.421e-5, 3.739e-5, 3.158e-5, 2.665e-5, 2.246e-5, 1.89e-5, 1.59e-5, 1.335e-5, 1.12e-5, \n",
    "    9.39e-6, 7.86e-6, 6.57e-6, 5.49e-6, 4.58e-6, 3.82e-6, 3.18e-6, 2.64e-6, 2.2e-6, 1.82e-6, 1.51e-6, 1.25e-6, \n",
    "    1.04e-6, 8.6e-7, 7.1e-7, 5.8e-7, 4.8e-7, 3.9e-7, 3.2e-7, 2.7e-7, 2.2e-7, 1.8e-7, 1.5e-7, 1.2e-7, 1.0e-7, \n",
    "    8.0e-8, 7.0e-8, 5.0e-8, 4.0e-8, 4.0e-8, 3.0e-8, 2.0e-8, 2.0e-8, 2.0e-8, 1.0e-8, 1.0e-8, 1.0e-8, 1.0e-8, \n",
    "    1.0e-8, 0.0]\n",
    "\n",
    "Gbench = [0.0, 2.082e-5, 0.00016627, 0.00055952, 0.00132082, 0.00256611, 0.0044057, 0.00694304, 0.01027356, \n",
    "    0.0144837, 0.01965002, 0.02583847, 0.03310386, 0.04148939, 0.05102647, 0.06173454, 0.07362123, 0.0866825, \n",
    "    0.100903, 0.11625658, 0.13270686, 0.15020793, 0.16870513, 0.18813596, 0.20843092, 0.22951455, 0.25130636, \n",
    "    0.27372186, 0.29667358, 0.32007198, 0.34382651, 0.36784642, 0.39204172, 0.41632392, 0.44060682, 0.46480718, \n",
    "    0.48884531, 0.5126456, 0.53613699, 0.55925333, 0.58193363, 0.60412238, 0.62576958, 0.64683091, 0.66726769, \n",
    "    0.68704686, 0.70614088, 0.72452757, 0.74218991, 0.75911585, 0.77529802, 0.79073346, 0.8054233, 0.81937247, \n",
    "    0.83258934, 0.84508543, 0.85687501, 0.86797485, 0.87840384, 0.88818269, 0.89733363, 0.90588014, 0.91384664, \n",
    "    0.92125827, 0.92814064, 0.9345196, 0.94042107, 0.94587084, 0.95089442, 0.95551689, 0.95976278, 0.96365598, \n",
    "    0.96721964, 0.97047609, 0.97344679, 0.97615229, 0.97861218, 0.98084511, 0.98286872, 0.98469969, 0.98635372, \n",
    "    0.98784555, 0.98918899, 0.99039691, 0.99148132, 0.99245336, 0.99332336, 0.99410087, 0.99479468, 0.9954129, \n",
    "    0.99596294, 0.99645163, 0.99688517, 0.99726924, 0.997609, 0.99790914, 0.99817391, 0.99840715, 0.99861234, \n",
    "    0.99879259, 0.99895073, 0.99908928, 0.9992105, 0.99931642, 0.99940884, 0.99948939, 0.99955949, 0.99962042, \n",
    "    0.99967332, 0.99971917, 0.99975887, 0.99979321, 0.99982286, 0.99984843, 0.99987047, 0.99988943, 0.99990572, \n",
    "    0.9999197, 0.99993169, 0.99994195, 0.99995073, 0.99995823, 0.99996462, 0.99997007, 0.99997471, 0.99997865, \n",
    "    0.999982, 0.99998484, 0.99998725, 0.99998928, 0.999991, 0.99999246, 0.99999368, 0.99999471, 0.99999558, \n",
    "    0.99999631, 0.99999692, 0.99999743, 0.99999786, 0.99999822, 0.99999853, 0.99999878, 0.99999899, 0.99999916, \n",
    "    0.99999931, 0.99999943, 0.99999953, 0.99999961, 0.99999968, 0.99999973, 0.99999978, 0.99999982, 0.99999985, \n",
    "    0.99999988, 0.9999999, 0.99999992, 0.99999993, 0.99999995, 0.99999996, 0.99999996, 0.99999997, 0.99999998, \n",
    "    0.99999998, 0.99999998, 0.99999999, 0.99999999, 0.99999999, 0.99999999, 0.99999999, 1.0, 1.0, 1.0, 1.0, \n",
    "    1.0, 1.0, 1.0, 1.0];"
   ]
  },
  {
   "cell_type": "code",
   "execution_count": 7,
   "id": "4eac0fff",
   "metadata": {},
   "outputs": [
    {
     "data": {
      "text/plain": [
       "(7.676552615798471e-9, 5.386643242566436e-9)"
      ]
     },
     "execution_count": 7,
     "metadata": {},
     "output_type": "execute_result"
    }
   ],
   "source": [
    "maximum(abs.(As-Abench)), maximum(abs.(Gs-Gbench))"
   ]
  },
  {
   "cell_type": "code",
   "execution_count": null,
   "id": "cf874f5e",
   "metadata": {},
   "outputs": [],
   "source": []
  },
  {
   "cell_type": "code",
   "execution_count": null,
   "id": "8840dcbe",
   "metadata": {},
   "outputs": [],
   "source": []
  },
  {
   "cell_type": "code",
   "execution_count": null,
   "id": "8383e0c4",
   "metadata": {},
   "outputs": [],
   "source": []
  },
  {
   "cell_type": "code",
   "execution_count": null,
   "id": "bff2e710",
   "metadata": {},
   "outputs": [],
   "source": []
  },
  {
   "cell_type": "code",
   "execution_count": null,
   "id": "0b5ca934",
   "metadata": {},
   "outputs": [],
   "source": []
  },
  {
   "cell_type": "code",
   "execution_count": null,
   "id": "3a063067",
   "metadata": {},
   "outputs": [],
   "source": []
  },
  {
   "cell_type": "code",
   "execution_count": null,
   "id": "a7a90a01",
   "metadata": {},
   "outputs": [],
   "source": []
  },
  {
   "cell_type": "code",
   "execution_count": null,
   "id": "c07aebcf",
   "metadata": {},
   "outputs": [],
   "source": []
  },
  {
   "cell_type": "code",
   "execution_count": null,
   "id": "21f0d100",
   "metadata": {},
   "outputs": [],
   "source": []
  },
  {
   "cell_type": "code",
   "execution_count": null,
   "id": "fe766793",
   "metadata": {},
   "outputs": [],
   "source": []
  }
 ],
 "metadata": {
  "kernelspec": {
   "display_name": "Julia 1.7.3",
   "language": "julia",
   "name": "julia-1.7"
  },
  "language_info": {
   "file_extension": ".jl",
   "mimetype": "application/julia",
   "name": "julia",
   "version": "1.7.3"
  }
 },
 "nbformat": 4,
 "nbformat_minor": 5
}
