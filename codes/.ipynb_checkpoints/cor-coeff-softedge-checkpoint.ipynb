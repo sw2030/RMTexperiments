{
 "cells": [
  {
   "cell_type": "code",
   "execution_count": 1,
   "id": "bc2ead49",
   "metadata": {},
   "outputs": [
    {
     "data": {
      "text/plain": [
       "compute_Eλ1λ2 (generic function with 1 method)"
      ]
     },
     "execution_count": 1,
     "metadata": {},
     "output_type": "execute_result"
    }
   ],
   "source": [
    "using LinearAlgebra, SpecialFunctions, SimplexQuad\n",
    "import GaussQuadrature.legendre\n",
    "function GL(m; a=0, b=1) \n",
    "    # m points Gauss-Legendre quadrature for [a, b]\n",
    "    xi, wi = legendre(m)\n",
    "    return map( t->((a+b)/2 + t*(b-a)/2), xi ), (b-a) * wi / 2\n",
    "end\n",
    "function K_quadrature(K, s; m=50) \n",
    "    # Creates K matrix according to m quadrature points\n",
    "    # Method proposed in (Bornemann, 2009)\n",
    "    x, w = GL(m)\n",
    "    w_sqrt = sqrt.(w)\n",
    "    return (w_sqrt*w_sqrt') .* map(t->K(s, t...), [(xi,xj) for xi in x, xj in x]) \n",
    "end\n",
    "\n",
    "\"\"\"\n",
    "K_Ai  : the usual Airy kernel\n",
    "K_Aip : the kernel K^{(s)}\n",
    "TWpdf  : pdf of the Tray-Widom distribution\n",
    "TW2pdf : pdf of the second eigenvalue of the TW distribution\n",
    "\"\"\"\n",
    "Ai, Aip = airyai, airyaiprime\n",
    "ϕ(x,s)    = s+10*tan(π*x/2) # See (Bornemann, 2009) pdf page 29\n",
    "ϕp(x)     = 5π*sec(π*x/2)^2\n",
    "K_Ai(x,y)      = x==y ? (Aip(x))^2-x*(Ai(x))^2 : (Ai(x)*Aip(y)-Ai(y)*Aip(x))/(x-y)\n",
    "K_Aip(s,x,y)   = K_Ai(x,y) - K_Ai(s,y)*K_Ai(x,s)/K_Ai(s,s)\n",
    "K_Ai_ϕ(s,x,y)  = sqrt(ϕp(x)*ϕp(y)) * K_Ai( ϕ(x, s), ϕ(y, s) )\n",
    "K_Aip_ϕ(s,x,y) = sqrt(ϕp(x)*ϕp(y)) * K_Aip(s, ϕ(x, s), ϕ(y, s) )\n",
    "  \n",
    "TWpdf(s; m=50) = K_Ai(s,s)*det(I - K_quadrature(K_Aip_ϕ, s; m=m))\n",
    "function TW2pdf(s; m=50)\n",
    "    K = K_quadrature(K_Aip_ϕ, s;m=m)\n",
    "    L = (I-K)\\K\n",
    "    return K_Ai(s,s)*tr(L)/det(I+L)\n",
    "end\n",
    "function compute_moments(m; xmin=-15.0, xmax=10.0, mint=50) \n",
    "    # Computes the first four moments of λ1, λ2\n",
    "    # Mean, Variance, Skewness, Excess kurtosis\n",
    "    xs_gl, ws_gl = GL(m; a=xmin, b=xmax)\n",
    "    f1_gl, f2_gl = TWpdf.(xs_gl; m=mint), TW2pdf.(xs_gl; m=mint)\n",
    "    Eλ1 = sum(f1_gl .* ws_gl .* xs_gl)\n",
    "    Eλ2 = sum(f2_gl .* ws_gl .* xs_gl)\n",
    "    Vλ1 = sum(f1_gl .* ws_gl .* xs_gl.^2) - Eλ1^2\n",
    "    Vλ2 = sum(f2_gl .* ws_gl .* xs_gl.^2) - Eλ2^2\n",
    "    σλ1, σλ2 = sqrt(Vλ1), sqrt(Vλ2)\n",
    "    Sλ1 = sum(f1_gl .* ws_gl .* ((xs_gl.-Eλ1)./σλ1).^3)\n",
    "    Sλ2 = sum(f2_gl .* ws_gl .* ((xs_gl.-Eλ2)./σλ2).^3)\n",
    "    Kλ1 = sum(f1_gl .* ws_gl .* ((xs_gl.-Eλ1)./σλ1).^4)-3\n",
    "    Kλ2 = sum(f2_gl .* ws_gl .* ((xs_gl.-Eλ2)./σλ2).^4)-3\n",
    "    return [Eλ1, Vλ1, Sλ1, Kλ1], [Eλ2, Vλ2, Sλ2, Kλ2]\n",
    "end\n",
    "\n",
    "### Now some joint pdf related routines\n",
    "K_Ai_λk(λs, x, y)     = K_Ai(x,y) - K_Ai.(x,λs)'*(K_Ai.(λs, λs')\\K_Ai.(λs,y))\n",
    "K_Ai_λk_ϕ(λs, x, y)   = K_Ai_λk(λs,ϕ(x,last(λs)),ϕ(y,last(λs))) * sqrt(ϕp(x)*ϕp(y))\n",
    "joint_pdf_λ1λ2(x; m=50) = x[1]>x[2] ? det(K_Ai.(x, x'))*det(I-K_quadrature(K_Ai_λk_ϕ, x;m=m)) : 0.0\n",
    "function compute_Eλ1λ2(m; xmin=-13.0, xmax=7.0, mint=50)\n",
    "    # Computes Eλ1λ2 using 2D quadrature\n",
    "    xs_sq, ws_sq = simplexquad(m, [xmin xmin; xmax xmax; xmax xmin])\n",
    "    xs_grid = [xs_sq[i,:] for i in 1:size(xs_sq,1)]\n",
    "    fs_sq = joint_pdf_λ1λ2.(xs_grid; m=mint)\n",
    "    return sum(ws_sq .* fs_sq .* prod.(xs_grid)) # Eλ1λ2\n",
    "end"
   ]
  },
  {
   "cell_type": "code",
   "execution_count": 2,
   "id": "e39645e9",
   "metadata": {},
   "outputs": [
    {
     "name": "stdout",
     "output_type": "stream",
     "text": [
      "  3.831936 seconds (21.22 M allocations: 571.675 MiB, 3.54% gc time, 39.67% compilation time)\n",
      "114.946040 seconds (788.64 M allocations: 16.890 GiB, 1.25% gc time, 0.96% compilation time)\n"
     ]
    },
    {
     "data": {
      "text/plain": [
       "0.5056472315898091"
      ]
     },
     "execution_count": 2,
     "metadata": {},
     "output_type": "execute_result"
    }
   ],
   "source": [
    "@time Mλ1, Mλ2 = compute_moments(70; mint=40)\n",
    "@time Eλ1λ2 = compute_Eλ1λ2(60; mint=35)\n",
    "ρ = (Eλ1λ2 - Mλ1[1]*Mλ2[1])/sqrt(Mλ1[2]*Mλ2[2])"
   ]
  }
 ],
 "metadata": {
  "kernelspec": {
   "display_name": "Julia 1.7.3",
   "language": "julia",
   "name": "julia-1.7"
  },
  "language_info": {
   "file_extension": ".jl",
   "mimetype": "application/julia",
   "name": "julia",
   "version": "1.7.3"
  }
 },
 "nbformat": 4,
 "nbformat_minor": 5
}
